{
 "cells": [
  {
   "cell_type": "markdown",
   "metadata": {},
   "source": [
    "# K-Means from scratch"
   ]
  },
  {
   "cell_type": "markdown",
   "metadata": {},
   "source": [
    "Le but de ce notebook est de recoder successivement un algorithme K-Means à partir d'un nombre de clusters $k$ et une matrice de données $X$."
   ]
  },
  {
   "cell_type": "markdown",
   "metadata": {},
   "source": [
    "On ouvre pour tester le fichier `dataset_1.csv` qui contient deux variables."
   ]
  },
  {
   "cell_type": "markdown",
   "metadata": {},
   "source": [
    "On importe les bibliothèques nécessaires."
   ]
  },
  {
   "cell_type": "code",
   "execution_count": 35,
   "metadata": {},
   "outputs": [],
   "source": [
    "import numpy as np\n",
    "import pandas as pd\n",
    "import matplotlib.pyplot as plt"
   ]
  },
  {
   "cell_type": "markdown",
   "metadata": {},
   "source": [
    "On ouvre le fichier et on illustre ses données sur un scatter plot"
   ]
  },
  {
   "cell_type": "code",
   "execution_count": 36,
   "metadata": {},
   "outputs": [
    {
     "data": {
      "text/html": [
       "<div>\n",
       "<style scoped>\n",
       "    .dataframe tbody tr th:only-of-type {\n",
       "        vertical-align: middle;\n",
       "    }\n",
       "\n",
       "    .dataframe tbody tr th {\n",
       "        vertical-align: top;\n",
       "    }\n",
       "\n",
       "    .dataframe thead th {\n",
       "        text-align: right;\n",
       "    }\n",
       "</style>\n",
       "<table border=\"1\" class=\"dataframe\">\n",
       "  <thead>\n",
       "    <tr style=\"text-align: right;\">\n",
       "      <th></th>\n",
       "      <th>normalized_age</th>\n",
       "      <th>normalized_salary</th>\n",
       "    </tr>\n",
       "  </thead>\n",
       "  <tbody>\n",
       "    <tr>\n",
       "      <th>0</th>\n",
       "      <td>0.680267</td>\n",
       "      <td>-0.016342</td>\n",
       "    </tr>\n",
       "    <tr>\n",
       "      <th>1</th>\n",
       "      <td>3.809518</td>\n",
       "      <td>0.798483</td>\n",
       "    </tr>\n",
       "    <tr>\n",
       "      <th>2</th>\n",
       "      <td>-1.661372</td>\n",
       "      <td>-0.577667</td>\n",
       "    </tr>\n",
       "    <tr>\n",
       "      <th>3</th>\n",
       "      <td>-0.257307</td>\n",
       "      <td>-0.155552</td>\n",
       "    </tr>\n",
       "    <tr>\n",
       "      <th>4</th>\n",
       "      <td>0.698017</td>\n",
       "      <td>0.174561</td>\n",
       "    </tr>\n",
       "  </tbody>\n",
       "</table>\n",
       "</div>"
      ],
      "text/plain": [
       "   normalized_age  normalized_salary\n",
       "0        0.680267          -0.016342\n",
       "1        3.809518           0.798483\n",
       "2       -1.661372          -0.577667\n",
       "3       -0.257307          -0.155552\n",
       "4        0.698017           0.174561"
      ]
     },
     "execution_count": 36,
     "metadata": {},
     "output_type": "execute_result"
    }
   ],
   "source": [
    "df = pd.read_csv(\"dataset_1.csv\", index_col=\"Unnamed: 0\")\n",
    "df.head()"
   ]
  },
  {
   "cell_type": "code",
   "execution_count": 37,
   "metadata": {},
   "outputs": [
    {
     "data": {
      "text/plain": [
       "Text(0, 0.5, 'Salaire')"
      ]
     },
     "execution_count": 37,
     "metadata": {},
     "output_type": "execute_result"
    },
    {
     "data": {
      "image/png": "[encoded data removed]",
      "text/plain": [
       "<Figure size 432x288 with 1 Axes>"
      ]
     },
     "metadata": {
      "needs_background": "light"
     },
     "output_type": "display_data"
    }
   ],
   "source": [
    "plt.scatter(df.iloc[:,0], df.iloc[:,1])\n",
    "plt.title(\"Age vs salaire\")\n",
    "plt.xlabel(\"Age\")\n",
    "plt.ylabel(\"Salaire\")"
   ]
  },
  {
   "cell_type": "markdown",
   "metadata": {},
   "source": [
    "On remarque qu'on peut placer au moins 2 clusters. Pour palcer un cluster, on a plusieurs méthodes à notre disposition.\n",
    "\n",
    "On peut commencer par une **méthode aléatoire** qui consiste à placer des points dans les limites des données. On peut convertir cette dataframe en une matrice Numpy et voir où se situent les extremum pour chaque variable."
   ]
  },
  {
   "cell_type": "code",
   "execution_count": 38,
   "metadata": {},
   "outputs": [
    {
     "name": "stdout",
     "output_type": "stream",
     "text": [
      "Maxima de X :\n",
      "[4.69090369 4.850055  ]\n",
      "Minima de X :\n",
      "[-8.096229   -1.19017548]\n"
     ]
    }
   ],
   "source": [
    "X =np.array(df)\n",
    "\n",
    "X_max= np.max(X, axis=0)\n",
    "X_min = np.min(X, axis=0)\n",
    "\n",
    "print(\"Maxima de X :\")\n",
    "print(X_max)\n",
    "print(\"Minima de X :\")\n",
    "print(X_min)"
   ]
  },
  {
   "cell_type": "markdown",
   "metadata": {},
   "source": [
    "On peut donc garder un nombre initial $k$ et lancer les centroïdes initiaux"
   ]
  },
  {
   "cell_type": "code",
   "execution_count": 39,
   "metadata": {},
   "outputs": [
    {
     "name": "stdout",
     "output_type": "stream",
     "text": [
      "[[ 0.95038797  2.88582274]\n",
      " [-0.76521907  3.16448729]\n",
      " [-3.61644139 -0.76275243]]\n"
     ]
    },
    {
     "data": {
      "text/plain": [
       "Text(0, 0.5, 'Salaire')"
      ]
     },
     "execution_count": 39,
     "metadata": {},
     "output_type": "execute_result"
    },
    {
     "data": {
      "image/png": "[encoded data removed]",
      "text/plain": [
       "<Figure size 432x288 with 1 Axes>"
      ]
     },
     "metadata": {
      "needs_background": "light"
     },
     "output_type": "display_data"
    }
   ],
   "source": [
    "k = 3\n",
    "centroids  = np.random.random((k,X_min.shape[0])) * (np.tile(X_max,(k,1)) - np.tile(X_min,(k,1))) + np.tile(X_min,(k,1))\n",
    "print(centroids)\n",
    "\n",
    "plt.scatter(X[:,0], X[:,1])\n",
    "plt.scatter(centroids[:,0], centroids[:,1], marker=\"X\", color=\"red\")\n",
    "plt.title(\"Age vs salaire\")\n",
    "plt.xlabel(\"Age\")\n",
    "plt.ylabel(\"Salaire\")"
   ]
  },
  {
   "cell_type": "markdown",
   "metadata": {},
   "source": [
    "A partir de ces premiers clusters, on peut calculer la distance pour chaque point et assigner un label au point le plus proche. Pour calculer la distance, on peut utiliser la distance **euclidienne** ou la distance de **Manhattan**.\n",
    "\n",
    "Partons sur la distance euclidienne."
   ]
  },
  {
   "cell_type": "code",
   "execution_count": 40,
   "metadata": {},
   "outputs": [
    {
     "name": "stdout",
     "output_type": "stream",
     "text": [
      "Nombre de points dans le cluster 0 :\n",
      "294\n",
      "Nombre de points dans le cluster 1 :\n",
      "64\n",
      "Nombre de points dans le cluster 2 :\n",
      "642\n"
     ]
    }
   ],
   "source": [
    "#Initialisation de la matrice\n",
    "labels = np.zeros((X.shape[0], k))\n",
    "for cluster in range(k):\n",
    "    labels[:,cluster] = np.sqrt(np.sum((X - centroids[cluster,:])**2,axis=1))\n",
    "labels=np.argmin(labels, axis=1)\n",
    "\n",
    "for i in range(k):\n",
    "    print(f\"Nombre de points dans le cluster {i} :\")\n",
    "    print(labels[labels==i].size)"
   ]
  },
  {
   "cell_type": "code",
   "execution_count": 41,
   "metadata": {},
   "outputs": [
    {
     "data": {
      "text/plain": [
       "Text(0, 0.5, 'Salaire')"
      ]
     },
     "execution_count": 41,
     "metadata": {},
     "output_type": "execute_result"
    },
    {
     "data": {
      "image/png": "[encoded data removed]",
      "text/plain": [
       "<Figure size 432x288 with 1 Axes>"
      ]
     },
     "metadata": {
      "needs_background": "light"
     },
     "output_type": "display_data"
    }
   ],
   "source": [
    "for i in range(k):\n",
    "    plt.scatter(X[labels==i][:,0], X[labels==i][:,1])\n",
    "plt.scatter(centroids[:,0], centroids[:,1], marker=\"X\", color=\"red\")\n",
    "plt.title(\"Age vs salaire\")\n",
    "plt.xlabel(\"Age\")\n",
    "plt.ylabel(\"Salaire\")"
   ]
  },
  {
   "cell_type": "markdown",
   "metadata": {},
   "source": [
    "Le hasard peut être très ou pas convaincant du tout. La prochaine étape est donc de recentrer les centroïdes en fédinissant la moyenne des points."
   ]
  },
  {
   "cell_type": "code",
   "execution_count": 42,
   "metadata": {},
   "outputs": [
    {
     "name": "stdout",
     "output_type": "stream",
     "text": [
      "Les centroïdes ne sont pas alignés\n"
     ]
    },
    {
     "data": {
      "text/plain": [
       "Text(0, 0.5, 'Salaire')"
      ]
     },
     "execution_count": 42,
     "metadata": {},
     "output_type": "execute_result"
    },
    {
     "data": {
      "image/png": "[encoded data removed]",
      "text/plain": [
       "<Figure size 432x288 with 1 Axes>"
      ]
     },
     "metadata": {
      "needs_background": "light"
     },
     "output_type": "display_data"
    }
   ],
   "source": [
    "new_centroids = np.zeros(centroids.shape)\n",
    "for cluster in range(k):\n",
    "    new_centroids[cluster,:] = np.mean(X[labels==cluster],axis=0)\n",
    "\n",
    "if (new_centroids!=centroids).all():\n",
    "    print(\"Les centroïdes ne sont pas alignés\")\n",
    "else:\n",
    "    print(\"Les centroïdes sont alignés\")\n",
    "    \n",
    "for i in range(k):\n",
    "    plt.scatter(X[labels==i][:,0], X[labels==i][:,1])\n",
    "plt.scatter(centroids[:,0], centroids[:,1], marker=\"X\", color=\"red\")\n",
    "plt.scatter(new_centroids[:,0], new_centroids[:,1], marker=\"D\", color=\"black\")\n",
    "plt.title(\"Age vs salaire\")\n",
    "plt.xlabel(\"Age\")\n",
    "plt.ylabel(\"Salaire\")"
   ]
  },
  {
   "cell_type": "markdown",
   "metadata": {},
   "source": [
    "On va donc réassigner les nouveaux centroïdes aux vieux centroïdes jusqu'à ce qu'ils ne bougent plus."
   ]
  },
  {
   "cell_type": "code",
   "execution_count": 46,
   "metadata": {},
   "outputs": [
    {
     "name": "stdout",
     "output_type": "stream",
     "text": [
      "Limite maximale d'itérations atteinte\n"
     ]
    }
   ],
   "source": [
    "nbr_of_iterations = 0\n",
    "threshold = 1000\n",
    "\n",
    "while (new_centroids!=centroids).all() or nbr_of_iterations <= threshold:\n",
    "    centroids = new_centroids\n",
    "    nbr_of_iterations += 1\n",
    "    labels = np.zeros((X.shape[0], k))\n",
    "    for cluster in range(k):\n",
    "        labels[:,cluster] = np.sqrt(np.sum((X - centroids[cluster,:])**2,axis=1))\n",
    "    labels=np.argmin(labels, axis=1)\n",
    "    new_centroids = np.zeros(centroids.shape)\n",
    "    for cluster in range(k):\n",
    "        new_centroids[cluster,:] = np.mean(X[labels==cluster],axis=0)\n",
    "\n",
    "if nbr_of_iterations<=threshold:\n",
    "    print(f\"On a déterminé les centroïdes au bout de {nbr_of_iterations} itérations.\")\n",
    "else:\n",
    "    print(\"Limite maximale d'itérations atteinte\")"
   ]
  },
  {
   "cell_type": "code",
   "execution_count": 45,
   "metadata": {},
   "outputs": [
    {
     "data": {
      "text/plain": [
       "Text(0, 0.5, 'Salaire')"
      ]
     },
     "execution_count": 45,
     "metadata": {},
     "output_type": "execute_result"
    },
    {
     "data": {
      "image/png": "[encoded data removed]",
      "text/plain": [
       "<Figure size 432x288 with 1 Axes>"
      ]
     },
     "metadata": {
      "needs_background": "light"
     },
     "output_type": "display_data"
    }
   ],
   "source": [
    "for i in range(k):\n",
    "    plt.scatter(X[labels==i][:,0], X[labels==i][:,1])\n",
    "plt.scatter(new_centroids[:,0], new_centroids[:,1], marker=\"X\", color=\"red\")\n",
    "plt.title(\"Age vs salaire\")\n",
    "plt.xlabel(\"Age\")\n",
    "plt.ylabel(\"Salaire\")"
   ]
  },
  {
   "cell_type": "code",
   "execution_count": null,
   "metadata": {},
   "outputs": [],
   "source": []
  }
 ],
 "metadata": {
  "kernelspec": {
   "display_name": "Python 3",
   "language": "python",
   "name": "python3"
  },
  "language_info": {
   "codemirror_mode": {
    "name": "ipython",
    "version": 3
   },
   "file_extension": ".py",
   "mimetype": "text/x-python",
   "name": "python",
   "nbconvert_exporter": "python",
   "pygments_lexer": "ipython3",
   "version": "3.7.7"
  }
 },
 "nbformat": 4,
 "nbformat_minor": 4
}
